{
 "cells": [
  {
   "cell_type": "markdown",
   "id": "5d288905-2e03-4025-80bd-027758f47365",
   "metadata": {},
   "source": [
    "# (PDF TO TEXT READ)"
   ]
  },
  {
   "cell_type": "code",
   "execution_count": 5,
   "id": "440b0869-4640-46cc-9b04-f765ca47c6d0",
   "metadata": {},
   "outputs": [],
   "source": [
    "import PyPDF2"
   ]
  },
  {
   "cell_type": "code",
   "execution_count": 7,
   "id": "61d49a0a-7fc2-4d5b-97df-fe1d9eddb391",
   "metadata": {},
   "outputs": [],
   "source": [
    "pdf_file = open('post_office.pdf','rb')"
   ]
  },
  {
   "cell_type": "code",
   "execution_count": 9,
   "id": "439c4416-a266-4506-a3e7-ce09d557c16b",
   "metadata": {},
   "outputs": [
    {
     "data": {
      "text/plain": [
       "<_io.BufferedReader name='post_office.pdf'>"
      ]
     },
     "execution_count": 9,
     "metadata": {},
     "output_type": "execute_result"
    }
   ],
   "source": [
    "pdf_file"
   ]
  },
  {
   "cell_type": "code",
   "execution_count": 11,
   "id": "510e7be9-d15a-4892-841d-5d66ef275d29",
   "metadata": {},
   "outputs": [],
   "source": [
    "pdf_reader = PyPDF2.PdfReader(pdf_file)"
   ]
  },
  {
   "cell_type": "code",
   "execution_count": 13,
   "id": "9fccab9b-5ca2-45bf-b805-3fb1248a4e2a",
   "metadata": {},
   "outputs": [
    {
     "data": {
      "text/plain": [
       "<PyPDF2._reader.PdfReader at 0x1088029c0>"
      ]
     },
     "execution_count": 13,
     "metadata": {},
     "output_type": "execute_result"
    }
   ],
   "source": [
    "pdf_reader"
   ]
  },
  {
   "cell_type": "code",
   "execution_count": 15,
   "id": "9012a2f3-9784-40a2-b018-799a539af346",
   "metadata": {},
   "outputs": [
    {
     "data": {
      "text/plain": [
       "172"
      ]
     },
     "execution_count": 15,
     "metadata": {},
     "output_type": "execute_result"
    }
   ],
   "source": [
    "len(pdf_reader.pages)"
   ]
  },
  {
   "cell_type": "code",
   "execution_count": 17,
   "id": "0b78278f-c2cd-45ca-b9f0-2de1be8dd423",
   "metadata": {},
   "outputs": [],
   "source": [
    "page_two = pdf_reader.pages[1]"
   ]
  },
  {
   "cell_type": "code",
   "execution_count": 167,
   "id": "24e8c7c4-b39c-4327-9d09-74b450172040",
   "metadata": {},
   "outputs": [],
   "source": [
    "page_two_text = (page_two.extract_text)"
   ]
  },
  {
   "cell_type": "code",
   "execution_count": 134,
   "id": "d6c0fda6-b53b-47e6-a156-aa5f31ead698",
   "metadata": {},
   "outputs": [
    {
     "data": {
      "text/plain": [
       "<bound method PageObject.extract_text of {'/Type': '/Page', '/Parent': IndirectObject(5, 0, 5548665808), '/Resources': {'/Font': {'/F0': IndirectObject(6, 0, 5548665808)}, '/ProcSet': IndirectObject(2, 0, 5548665808)}, '/Contents': IndirectObject(13, 0, 5548665808), '/MediaBox': [0, 0, 612, 792]}>"
      ]
     },
     "execution_count": 134,
     "metadata": {},
     "output_type": "execute_result"
    }
   ],
   "source": [
    "page_two_text"
   ]
  },
  {
   "cell_type": "code",
   "execution_count": 136,
   "id": "4b90cf1c-e09c-41dd-b5ed-c185ce789212",
   "metadata": {},
   "outputs": [],
   "source": [
    "page_two = pdf_reader.pages[1]"
   ]
  },
  {
   "cell_type": "code",
   "execution_count": 138,
   "id": "c1b7e14a-d8ee-418e-9f4b-9387e5c3e2a6",
   "metadata": {},
   "outputs": [],
   "source": [
    "page_two_text = (page_two.extract_text)"
   ]
  },
  {
   "cell_type": "code",
   "execution_count": 140,
   "id": "9128e9e2-6699-49b8-9c43-1897bb51b5af",
   "metadata": {},
   "outputs": [
    {
     "data": {
      "text/plain": [
       "<bound method PageObject.extract_text of {'/Type': '/Page', '/Parent': IndirectObject(5, 0, 5548665808), '/Resources': {'/Font': {'/F0': IndirectObject(6, 0, 5548665808)}, '/ProcSet': IndirectObject(2, 0, 5548665808)}, '/Contents': IndirectObject(13, 0, 5548665808), '/MediaBox': [0, 0, 612, 792]}>"
      ]
     },
     "execution_count": 140,
     "metadata": {},
     "output_type": "execute_result"
    }
   ],
   "source": [
    "page_two_text"
   ]
  },
  {
   "cell_type": "code",
   "execution_count": 142,
   "id": "e4dd0b79-aad8-4584-a77a-665631cb0f7a",
   "metadata": {},
   "outputs": [],
   "source": [
    "pdf_file.close()"
   ]
  },
  {
   "cell_type": "code",
   "execution_count": 28,
   "id": "694b065e-5d31-41e4-b8d4-5022cfb67436",
   "metadata": {},
   "outputs": [],
   "source": [
    "import PyPDF2"
   ]
  },
  {
   "cell_type": "code",
   "execution_count": 30,
   "id": "b07396c3-5fb4-4dea-a15b-e05933c08c00",
   "metadata": {},
   "outputs": [
    {
     "name": "stdout",
     "output_type": "stream",
     "text": [
      "PREFACE  \n",
      " \n",
      " \n",
      " This Post Office Guide Part I contains information on all items of busine ss \n",
      "transacted in a Post Office.  The positions relating to the Savings Bank, CTD, RD, TD \n",
      "and Cash Certificates have been removed from this Part and will be incorporated in a \n",
      "separate volume to be entitled as the P.O. Guide Part IV.  Two new Sections, one o n \n",
      "PHILATELY and the other on POSTAL LIFE INSURANCE have been added to this \n",
      "volume.  \n",
      " \n",
      " 2. The Post Office Guide will now be divided into the following four parts.  \n",
      " \n",
      " Part I   Rules and regulations relating to inland post  \n",
      "  \n",
      " Part II   Rules and regulations relat ing to foreign post.  \n",
      " \n",
      " Part III   List of Post Offices (in two volumes).  \n",
      " \n",
      " Part IV   Post Office Savings Bank and Post Office Savings Scheme.  \n",
      " \n",
      " \n",
      " 3.  The Postal rates are given in a separate pamphlet, attached to Part I.  As these \n",
      "are revised from time to tim e, public are requested to ascertain the latest rates from the \n",
      "nearest Post Office.  \n",
      " \n",
      " 4.  All the clauses of this Guide are based on the Indian Post Office Act and Rules \n",
      "framed by the Government under the said Act.  Nothing in this Guide, therefore, \n",
      "supers edes any of the provisions in the Indian Post Office Act or Rules.  \n",
      " \n",
      " 5. Amendments as may be necessary will be issued from time to time by the \n",
      "Director General, Posts.  Suggestions for additions and alterations should be addressed to \n",
      "the Postal Technical S ection of this Directorate.  \n",
      " \n",
      "Secretary  \n",
      " \n",
      " \n",
      "NEW DELHI:             \n",
      " \n",
      "Department of Posts  \n",
      "& \n",
      "Chairman, Postal Board  \n",
      "&  \n",
      "Director General, Posts.  \n"
     ]
    }
   ],
   "source": [
    "with open('post_office.pdf','rb') as file:\n",
    "    reader=PyPDF2.PdfReader(file)\n",
    "    page_two=reader.pages[1]\n",
    "    page_two_text=page_two.extract_text()\n",
    "print(page_two_text)"
   ]
  },
  {
   "cell_type": "code",
   "execution_count": 53,
   "id": "710a6941-081c-48a1-ad89-9d0a39027d28",
   "metadata": {},
   "outputs": [],
   "source": [
    "import PyPDF2"
   ]
  },
  {
   "cell_type": "code",
   "execution_count": 59,
   "id": "20f03a74-4dfe-408a-9e48-d32915a81a4f",
   "metadata": {},
   "outputs": [
    {
     "name": "stdout",
     "output_type": "stream",
     "text": [
      "PREFACE  \n",
      " \n",
      " \n",
      " This Post Office Guide Part I contains information on all items of busine ss \n",
      "transacted in a Post Office.  The positions relating to the Savings Bank, CTD, RD, TD \n",
      "and Cash Certificates have been removed from this Part and will be incorporated in a \n",
      "separate volume to be entitled as the P.O. Guide Part IV.  Two new Sections, one o n \n",
      "PHILATELY and the other on POSTAL LIFE INSURANCE have been added to this \n",
      "volume.  \n",
      " \n",
      " 2. The Post Office Guide will now be divided into the following four parts.  \n",
      " \n",
      " Part I   Rules and regulations relating to inland post  \n",
      "  \n",
      " Part II   Rules and regulations relat ing to foreign post.  \n",
      " \n",
      " Part III   List of Post Offices (in two volumes).  \n",
      " \n",
      " Part IV   Post Office Savings Bank and Post Office Savings Scheme.  \n",
      " \n",
      " \n",
      " 3.  The Postal rates are given in a separate pamphlet, attached to Part I.  As these \n",
      "are revised from time to tim e, public are requested to ascertain the latest rates from the \n",
      "nearest Post Office.  \n",
      " \n",
      " 4.  All the clauses of this Guide are based on the Indian Post Office Act and Rules \n",
      "framed by the Government under the said Act.  Nothing in this Guide, therefore, \n",
      "supers edes any of the provisions in the Indian Post Office Act or Rules.  \n",
      " \n",
      " 5. Amendments as may be necessary will be issued from time to time by the \n",
      "Director General, Posts.  Suggestions for additions and alterations should be addressed to \n",
      "the Postal Technical S ection of this Directorate.  \n",
      " \n",
      "Secretary  \n",
      " \n",
      " \n",
      "NEW DELHI:             \n",
      " \n",
      "Department of Posts  \n",
      "& \n",
      "Chairman, Postal Board  \n",
      "&  \n",
      "Director General, Posts.  \n"
     ]
    }
   ],
   "source": [
    "with open ('post_office.pdf','rb') as file:\n",
    "    reader=PyPDF2.PdfReader(file)\n",
    "    page_two = pdf_reader.pages[1]\n",
    "    page_two_text = page_two.extract_text()\n",
    "print(page_two_text)"
   ]
  },
  {
   "cell_type": "code",
   "execution_count": 71,
   "id": "de05f635-ff16-4be3-9a3e-7794907033fc",
   "metadata": {},
   "outputs": [
    {
     "name": "stdout",
     "output_type": "stream",
     "text": [
      "NLP stands for Natural Language Processing\n"
     ]
    }
   ],
   "source": [
    "a =\"NLP\"\n",
    "full_form=\"Natural Language Processing\"\n",
    "print(f\"{a} stands for {full_form}\")"
   ]
  },
  {
   "cell_type": "code",
   "execution_count": 73,
   "id": "2b3d0090-5074-42fd-a8e7-b53769316e82",
   "metadata": {},
   "outputs": [],
   "source": [
    "import spacy"
   ]
  },
  {
   "cell_type": "code",
   "execution_count": 79,
   "id": "eab858d2-80cf-478d-9181-aaa8243033d8",
   "metadata": {},
   "outputs": [
    {
     "name": "stderr",
     "output_type": "stream",
     "text": [
      "/opt/anaconda3/lib/python3.12/site-packages/spacy/util.py:910: UserWarning: [W095] Model 'en_core_web_sm' (3.7.1) was trained with spaCy v3.7.2 and may not be 100% compatible with the current version (3.8.2). If you see errors or degraded performance, download a newer compatible model or retrain your custom model with the current spaCy version. For more details and available updates, run: python -m spacy validate\n",
      "  warnings.warn(warn_msg)\n"
     ]
    }
   ],
   "source": [
    "nlp = spacy.load(\"en_core_web_sm\")"
   ]
  },
  {
   "cell_type": "code",
   "execution_count": null,
   "id": "427d95ad-cff4-4e55-a570-b02599383333",
   "metadata": {},
   "outputs": [],
   "source": [
    "doc = nlp (\"Facebook "
   ]
  }
 ],
 "metadata": {
  "kernelspec": {
   "display_name": "Python 3 (ipykernel)",
   "language": "python",
   "name": "python3"
  },
  "language_info": {
   "codemirror_mode": {
    "name": "ipython",
    "version": 3
   },
   "file_extension": ".py",
   "mimetype": "text/x-python",
   "name": "python",
   "nbconvert_exporter": "python",
   "pygments_lexer": "ipython3",
   "version": "3.12.2"
  }
 },
 "nbformat": 4,
 "nbformat_minor": 5
}
