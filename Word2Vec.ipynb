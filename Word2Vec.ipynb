{
 "cells": [
  {
   "cell_type": "code",
   "execution_count": 2,
   "id": "2dae8758-aabe-423d-91e8-417625166d09",
   "metadata": {},
   "outputs": [
    {
     "name": "stdout",
     "output_type": "stream",
     "text": [
      "Requirement already satisfied: gensim in /opt/anaconda3/lib/python3.12/site-packages (4.3.3)\n",
      "Requirement already satisfied: numpy<2.0,>=1.18.5 in /opt/anaconda3/lib/python3.12/site-packages (from gensim) (1.26.4)\n",
      "Requirement already satisfied: scipy<1.14.0,>=1.7.0 in /opt/anaconda3/lib/python3.12/site-packages (from gensim) (1.13.1)\n",
      "Requirement already satisfied: smart-open>=1.8.1 in /opt/anaconda3/lib/python3.12/site-packages (from gensim) (5.2.1)\n",
      "\n",
      "\u001b[1m[\u001b[0m\u001b[34;49mnotice\u001b[0m\u001b[1;39;49m]\u001b[0m\u001b[39;49m A new release of pip is available: \u001b[0m\u001b[31;49m24.3.1\u001b[0m\u001b[39;49m -> \u001b[0m\u001b[32;49m25.0\u001b[0m\n",
      "\u001b[1m[\u001b[0m\u001b[34;49mnotice\u001b[0m\u001b[1;39;49m]\u001b[0m\u001b[39;49m To update, run: \u001b[0m\u001b[32;49mpip install --upgrade pip\u001b[0m\n",
      "Note: you may need to restart the kernel to use updated packages.\n"
     ]
    }
   ],
   "source": [
    "pip install gensim"
   ]
  },
  {
   "cell_type": "code",
   "execution_count": 3,
   "id": "b4c4949b-767f-469f-aeb1-2cca72d0c749",
   "metadata": {},
   "outputs": [],
   "source": [
    "import gensim"
   ]
  },
  {
   "cell_type": "code",
   "execution_count": 4,
   "id": "59372533-cf1b-4cd3-a47f-8f1e32c2b46c",
   "metadata": {},
   "outputs": [],
   "source": [
    "import pandas as pd\n",
    "import numpy as np"
   ]
  },
  {
   "cell_type": "code",
   "execution_count": 5,
   "id": "3547c0ce-d5cf-491e-9a03-68b8f8ac47d8",
   "metadata": {},
   "outputs": [],
   "source": [
    "temp_df=pd.read_csv(\"IMDB Dataset.csv\")"
   ]
  },
  {
   "cell_type": "code",
   "execution_count": 6,
   "id": "68a494a5-f251-4760-aa34-893c326dcb74",
   "metadata": {},
   "outputs": [
    {
     "data": {
      "text/html": [
       "<div>\n",
       "<style scoped>\n",
       "    .dataframe tbody tr th:only-of-type {\n",
       "        vertical-align: middle;\n",
       "    }\n",
       "\n",
       "    .dataframe tbody tr th {\n",
       "        vertical-align: top;\n",
       "    }\n",
       "\n",
       "    .dataframe thead th {\n",
       "        text-align: right;\n",
       "    }\n",
       "</style>\n",
       "<table border=\"1\" class=\"dataframe\">\n",
       "  <thead>\n",
       "    <tr style=\"text-align: right;\">\n",
       "      <th></th>\n",
       "      <th>review</th>\n",
       "      <th>sentiment</th>\n",
       "    </tr>\n",
       "  </thead>\n",
       "  <tbody>\n",
       "    <tr>\n",
       "      <th>0</th>\n",
       "      <td>One of the other reviewers has mentioned that ...</td>\n",
       "      <td>positive</td>\n",
       "    </tr>\n",
       "    <tr>\n",
       "      <th>1</th>\n",
       "      <td>A wonderful little production. &lt;br /&gt;&lt;br /&gt;The...</td>\n",
       "      <td>positive</td>\n",
       "    </tr>\n",
       "    <tr>\n",
       "      <th>2</th>\n",
       "      <td>I thought this was a wonderful way to spend ti...</td>\n",
       "      <td>positive</td>\n",
       "    </tr>\n",
       "    <tr>\n",
       "      <th>3</th>\n",
       "      <td>Basically there's a family where a little boy ...</td>\n",
       "      <td>negative</td>\n",
       "    </tr>\n",
       "    <tr>\n",
       "      <th>4</th>\n",
       "      <td>Petter Mattei's \"Love in the Time of Money\" is...</td>\n",
       "      <td>positive</td>\n",
       "    </tr>\n",
       "  </tbody>\n",
       "</table>\n",
       "</div>"
      ],
      "text/plain": [
       "                                              review sentiment\n",
       "0  One of the other reviewers has mentioned that ...  positive\n",
       "1  A wonderful little production. <br /><br />The...  positive\n",
       "2  I thought this was a wonderful way to spend ti...  positive\n",
       "3  Basically there's a family where a little boy ...  negative\n",
       "4  Petter Mattei's \"Love in the Time of Money\" is...  positive"
      ]
     },
     "execution_count": 6,
     "metadata": {},
     "output_type": "execute_result"
    }
   ],
   "source": [
    "temp_df.head()"
   ]
  },
  {
   "cell_type": "code",
   "execution_count": 7,
   "id": "26bf8de5-415e-467d-9c42-d16a1e68b614",
   "metadata": {},
   "outputs": [
    {
     "data": {
      "text/html": [
       "<div>\n",
       "<style scoped>\n",
       "    .dataframe tbody tr th:only-of-type {\n",
       "        vertical-align: middle;\n",
       "    }\n",
       "\n",
       "    .dataframe tbody tr th {\n",
       "        vertical-align: top;\n",
       "    }\n",
       "\n",
       "    .dataframe thead th {\n",
       "        text-align: right;\n",
       "    }\n",
       "</style>\n",
       "<table border=\"1\" class=\"dataframe\">\n",
       "  <thead>\n",
       "    <tr style=\"text-align: right;\">\n",
       "      <th></th>\n",
       "      <th>review</th>\n",
       "      <th>sentiment</th>\n",
       "    </tr>\n",
       "  </thead>\n",
       "  <tbody>\n",
       "    <tr>\n",
       "      <th>0</th>\n",
       "      <td>One of the other reviewers has mentioned that ...</td>\n",
       "      <td>positive</td>\n",
       "    </tr>\n",
       "    <tr>\n",
       "      <th>1</th>\n",
       "      <td>A wonderful little production. &lt;br /&gt;&lt;br /&gt;The...</td>\n",
       "      <td>positive</td>\n",
       "    </tr>\n",
       "    <tr>\n",
       "      <th>2</th>\n",
       "      <td>I thought this was a wonderful way to spend ti...</td>\n",
       "      <td>positive</td>\n",
       "    </tr>\n",
       "    <tr>\n",
       "      <th>3</th>\n",
       "      <td>Basically there's a family where a little boy ...</td>\n",
       "      <td>negative</td>\n",
       "    </tr>\n",
       "    <tr>\n",
       "      <th>4</th>\n",
       "      <td>Petter Mattei's \"Love in the Time of Money\" is...</td>\n",
       "      <td>positive</td>\n",
       "    </tr>\n",
       "  </tbody>\n",
       "</table>\n",
       "</div>"
      ],
      "text/plain": [
       "                                              review sentiment\n",
       "0  One of the other reviewers has mentioned that ...  positive\n",
       "1  A wonderful little production. <br /><br />The...  positive\n",
       "2  I thought this was a wonderful way to spend ti...  positive\n",
       "3  Basically there's a family where a little boy ...  negative\n",
       "4  Petter Mattei's \"Love in the Time of Money\" is...  positive"
      ]
     },
     "execution_count": 7,
     "metadata": {},
     "output_type": "execute_result"
    }
   ],
   "source": [
    "df = temp_df.iloc[:10000]\n",
    "df.head()"
   ]
  },
  {
   "cell_type": "code",
   "execution_count": 8,
   "id": "135c07ca-a85d-491f-925c-1df3cf0a2546",
   "metadata": {},
   "outputs": [
    {
     "name": "stderr",
     "output_type": "stream",
     "text": [
      "/var/folders/hn/_nb8yt5s35z4zn8wghrqt2bw0000gn/T/ipykernel_2035/3006716147.py:1: SettingWithCopyWarning: \n",
      "A value is trying to be set on a copy of a slice from a DataFrame\n",
      "\n",
      "See the caveats in the documentation: https://pandas.pydata.org/pandas-docs/stable/user_guide/indexing.html#returning-a-view-versus-a-copy\n",
      "  df.drop_duplicates(inplace=True)\n"
     ]
    }
   ],
   "source": [
    "df.drop_duplicates(inplace=True)"
   ]
  },
  {
   "cell_type": "code",
   "execution_count": 9,
   "id": "7564cde7-0083-4243-a884-53d2d8bb3de1",
   "metadata": {},
   "outputs": [],
   "source": [
    "import re\n",
    "def remove_tag(raw_text):\n",
    "    cleaned_text=re.sub(re.compile('<.*?>'),'',raw_text)\n",
    "    return cleaned_text"
   ]
  },
  {
   "cell_type": "code",
   "execution_count": 10,
   "id": "192a7aea-94c6-4950-9adc-29b1f29270d8",
   "metadata": {},
   "outputs": [
    {
     "name": "stderr",
     "output_type": "stream",
     "text": [
      "/var/folders/hn/_nb8yt5s35z4zn8wghrqt2bw0000gn/T/ipykernel_2035/3179549256.py:1: SettingWithCopyWarning: \n",
      "A value is trying to be set on a copy of a slice from a DataFrame.\n",
      "Try using .loc[row_indexer,col_indexer] = value instead\n",
      "\n",
      "See the caveats in the documentation: https://pandas.pydata.org/pandas-docs/stable/user_guide/indexing.html#returning-a-view-versus-a-copy\n",
      "  df['review']=df['review'].apply(remove_tag)\n"
     ]
    }
   ],
   "source": [
    "df['review']=df['review'].apply(remove_tag)"
   ]
  },
  {
   "cell_type": "code",
   "execution_count": 11,
   "id": "6d568e10-4fab-4452-be68-06bd2ae58d3f",
   "metadata": {},
   "outputs": [
    {
     "data": {
      "text/plain": [
       "(0       One of the other reviewers has mentioned that ...\n",
       " 1       A wonderful little production. The filming tec...\n",
       " 2       I thought this was a wonderful way to spend ti...\n",
       " 3       Basically there's a family where a little boy ...\n",
       " 4       Petter Mattei's \"Love in the Time of Money\" is...\n",
       "                               ...                        \n",
       " 9995    Fun, entertaining movie about WWII German spy ...\n",
       " 9996    Give me a break. How can anyone say that this ...\n",
       " 9997    This movie is a bad movie. But after watching ...\n",
       " 9998    This is a movie that was probably made to ente...\n",
       " 9999    Smashing film about film-making. Shows the int...\n",
       " Name: review, Length: 9983, dtype: object,\n",
       " 0       one of the other reviewers has mentioned that ...\n",
       " 1       a wonderful little production. the filming tec...\n",
       " 2       i thought this was a wonderful way to spend ti...\n",
       " 3       basically there's a family where a little boy ...\n",
       " 4       petter mattei's \"love in the time of money\" is...\n",
       "                               ...                        \n",
       " 9995    fun, entertaining movie about wwii german spy ...\n",
       " 9996    give me a break. how can anyone say that this ...\n",
       " 9997    this movie is a bad movie. but after watching ...\n",
       " 9998    this is a movie that was probably made to ente...\n",
       " 9999    smashing film about film-making. shows the int...\n",
       " Name: review, Length: 9983, dtype: object)"
      ]
     },
     "execution_count": 11,
     "metadata": {},
     "output_type": "execute_result"
    }
   ],
   "source": [
    "df['review'],df['review'].apply(lambda x:x.lower())"
   ]
  },
  {
   "cell_type": "code",
   "execution_count": 12,
   "id": "2ea00943-52df-4411-8df9-b54367087794",
   "metadata": {},
   "outputs": [
    {
     "name": "stderr",
     "output_type": "stream",
     "text": [
      "/var/folders/hn/_nb8yt5s35z4zn8wghrqt2bw0000gn/T/ipykernel_2035/1621938133.py:5: SettingWithCopyWarning: \n",
      "A value is trying to be set on a copy of a slice from a DataFrame.\n",
      "Try using .loc[row_indexer,col_indexer] = value instead\n",
      "\n",
      "See the caveats in the documentation: https://pandas.pydata.org/pandas-docs/stable/user_guide/indexing.html#returning-a-view-versus-a-copy\n",
      "  df['review'] = df['review'].apply(lambda x: [word for word in x.split() if word not in sw_list]).apply(lambda x: \" \".join(x))\n"
     ]
    }
   ],
   "source": [
    "from nltk.corpus import stopwords\n",
    "\n",
    "sw_list=stopwords.words('english')\n",
    "\n",
    "df['review'] = df['review'].apply(lambda x: [word for word in x.split() if word not in sw_list]).apply(lambda x: \" \".join(x))"
   ]
  },
  {
   "cell_type": "code",
   "execution_count": 13,
   "id": "7cf5bd99-4097-4702-b5ec-d53482be8784",
   "metadata": {},
   "outputs": [
    {
     "data": {
      "text/plain": [
       "0       One reviewers mentioned watching 1 Oz episode ...\n",
       "1       A wonderful little production. The filming tec...\n",
       "2       I thought wonderful way spend time hot summer ...\n",
       "3       Basically there's family little boy (Jake) thi...\n",
       "4       Petter Mattei's \"Love Time Money\" visually stu...\n",
       "                              ...                        \n",
       "9995    Fun, entertaining movie WWII German spy (Julie...\n",
       "9996    Give break. How anyone say \"good hockey movie\"...\n",
       "9997    This movie bad movie. But watching endless ser...\n",
       "9998    This movie probably made entertain middle scho...\n",
       "9999    Smashing film film-making. Shows intense stran...\n",
       "Name: review, Length: 9983, dtype: object"
      ]
     },
     "execution_count": 13,
     "metadata": {},
     "output_type": "execute_result"
    }
   ],
   "source": [
    "df['review']"
   ]
  },
  {
   "cell_type": "code",
   "execution_count": 14,
   "id": "cddcc297-783d-4361-ab73-2e3404ee3901",
   "metadata": {},
   "outputs": [],
   "source": [
    "from nltk import sent_tokenize\n",
    "from gensim.utils import simple_preprocess"
   ]
  },
  {
   "cell_type": "code",
   "execution_count": 15,
   "id": "ad86a72c-76c1-4aff-88df-e06381d99914",
   "metadata": {},
   "outputs": [],
   "source": [
    "story =[]\n",
    "for doc in df['review']:\n",
    "    raw_sent=sent_tokenize(doc)\n",
    "    for sent in raw_sent:\n",
    "        story.append(simple_preprocess(sent))"
   ]
  },
  {
   "cell_type": "code",
   "execution_count": 16,
   "id": "3e1d95f9-de03-4279-bf6a-7953609ae81c",
   "metadata": {},
   "outputs": [],
   "source": [
    "model=gensim.models.Word2Vec(\n",
    "    window=10,\n",
    "    min_count=2\n",
    ")"
   ]
  },
  {
   "cell_type": "code",
   "execution_count": 17,
   "id": "8aa83ffc-f74b-40ca-834b-3eb04fe92228",
   "metadata": {},
   "outputs": [],
   "source": [
    "model.build_vocab(story)"
   ]
  },
  {
   "cell_type": "code",
   "execution_count": 18,
   "id": "70fb6d75-0855-4115-bd6c-087f757350ad",
   "metadata": {},
   "outputs": [
    {
     "data": {
      "text/plain": [
       "(6100143, 6529530)"
      ]
     },
     "execution_count": 18,
     "metadata": {},
     "output_type": "execute_result"
    }
   ],
   "source": [
    "model.train(story,total_examples=model.corpus_count, epochs=model.epochs)"
   ]
  },
  {
   "cell_type": "code",
   "execution_count": 19,
   "id": "815d6e08-076e-4316-811a-2212587ba4c3",
   "metadata": {},
   "outputs": [
    {
     "data": {
      "text/plain": [
       "31845"
      ]
     },
     "execution_count": 19,
     "metadata": {},
     "output_type": "execute_result"
    }
   ],
   "source": [
    "len(model.wv.index_to_key)"
   ]
  },
  {
   "cell_type": "code",
   "execution_count": 25,
   "id": "ff5f02f2-5c91-478b-9e56-33eb8cd99de4",
   "metadata": {},
   "outputs": [],
   "source": [
    "import numpy as np\n",
    "\n",
    "def documents_vector(doc, model):\n",
    "    # Remove out of vocabulary words\n",
    "    doc = [word for word in doc.split() if word in model.wv.index_to_key]\n",
    "    \n",
    "    # If the document is empty after filtering, return a vector of zeros\n",
    "    if len(doc) == 0:\n",
    "        return np.zeros(model.vector_size)\n",
    "    \n",
    "    # Compute the mean of word vectors\n",
    "    return np.mean([model.wv[word] for word in doc], axis=0)"
   ]
  },
  {
   "cell_type": "code",
   "execution_count": 27,
   "id": "850ec130-390d-4a93-be9a-d6cace299dae",
   "metadata": {},
   "outputs": [],
   "source": [
    "document_vector = documents_vector(df['review'].values[0], model)"
   ]
  },
  {
   "cell_type": "code",
   "execution_count": 29,
   "id": "dfdeefa3-319c-452a-8c2f-763084c68d60",
   "metadata": {},
   "outputs": [
    {
     "name": "stdout",
     "output_type": "stream",
     "text": [
      "Requirement already satisfied: tqdm in /opt/anaconda3/lib/python3.12/site-packages (4.66.4)\n",
      "\n",
      "\u001b[1m[\u001b[0m\u001b[34;49mnotice\u001b[0m\u001b[1;39;49m]\u001b[0m\u001b[39;49m A new release of pip is available: \u001b[0m\u001b[31;49m24.3.1\u001b[0m\u001b[39;49m -> \u001b[0m\u001b[32;49m25.0\u001b[0m\n",
      "\u001b[1m[\u001b[0m\u001b[34;49mnotice\u001b[0m\u001b[1;39;49m]\u001b[0m\u001b[39;49m To update, run: \u001b[0m\u001b[32;49mpip install --upgrade pip\u001b[0m\n",
      "Note: you may need to restart the kernel to use updated packages.\n"
     ]
    }
   ],
   "source": [
    "pip install tqdm"
   ]
  },
  {
   "cell_type": "code",
   "execution_count": 30,
   "id": "cbb99db4-8f19-4160-8df7-3e4771b0d6b3",
   "metadata": {},
   "outputs": [],
   "source": [
    "import tqdm"
   ]
  },
  {
   "cell_type": "code",
   "execution_count": 31,
   "id": "180a0bbb-395f-4ab0-a691-16e1b77f6db7",
   "metadata": {},
   "outputs": [],
   "source": [
    "from tqdm import tqdm"
   ]
  },
  {
   "cell_type": "code",
   "execution_count": 41,
   "id": "933f685e-e488-4771-970e-6a82486609c0",
   "metadata": {},
   "outputs": [
    {
     "name": "stderr",
     "output_type": "stream",
     "text": [
      "100%|███████████████████████████████████████| 9983/9983 [02:56<00:00, 56.61it/s]\n"
     ]
    }
   ],
   "source": [
    "x = []\n",
    "for doc in tqdm(df['review'].values):\n",
    "    x.append(documents_vector(doc, model))  # Pass 'model' explicitly"
   ]
  },
  {
   "cell_type": "code",
   "execution_count": 48,
   "id": "a33eea2d-d874-407a-8c85-c48d2f2f935a",
   "metadata": {},
   "outputs": [],
   "source": [
    "x=np.array(x)"
   ]
  },
  {
   "cell_type": "code",
   "execution_count": 49,
   "id": "76687cb4-1790-437c-947a-6398f0995130",
   "metadata": {},
   "outputs": [
    {
     "data": {
      "text/plain": [
       "array([-0.07499494,  0.43006307,  0.11793921, -0.0216762 ,  0.11981379,\n",
       "       -0.60299063,  0.08494354,  0.73537743, -0.21906149, -0.14651863,\n",
       "       -0.28664136, -0.66350734, -0.15857054,  0.20437174, -0.06645857,\n",
       "       -0.41858408,  0.06211361, -0.21544848,  0.09672651, -0.70157343,\n",
       "        0.03134253,  0.04363453,  0.24727838,  0.04447424,  0.11581209,\n",
       "        0.0077533 , -0.17821278, -0.04735409, -0.19873607, -0.07800749,\n",
       "        0.43329984,  0.05451129,  0.23329309, -0.25770432, -0.10635544,\n",
       "        0.22842276,  0.03528594, -0.38610682, -0.15679984, -0.98052794,\n",
       "        0.06670064, -0.40413558, -0.12079145, -0.06620859,  0.06818949,\n",
       "       -0.08710723, -0.28680915,  0.02661522,  0.13826589,  0.2660464 ,\n",
       "        0.29157364, -0.21037732, -0.31156734,  0.01138517, -0.12374344,\n",
       "        0.07922688,  0.1899503 , -0.25366336, -0.41704538,  0.12832287,\n",
       "        0.22801493,  0.27193838, -0.07935191,  0.00984083, -0.46582943,\n",
       "        0.04355253,  0.10090164,  0.31041694, -0.59621263,  0.33178121,\n",
       "       -0.23554079,  0.27558917,  0.27363816, -0.05305336,  0.22497845,\n",
       "       -0.04970944, -0.0622716 ,  0.04766584, -0.19729087,  0.35695028,\n",
       "       -0.0837257 , -0.01495298, -0.32876068,  0.61684006, -0.14765379,\n",
       "       -0.0633048 ,  0.06370268,  0.50001931,  0.28174233,  0.04223156,\n",
       "        0.5765394 ,  0.14329965,  0.07010451,  0.05907832,  0.65140617,\n",
       "        0.18458834,  0.14173631, -0.28695866,  0.22137086,  0.02597274])"
      ]
     },
     "execution_count": 49,
     "metadata": {},
     "output_type": "execute_result"
    }
   ],
   "source": [
    "x[0]"
   ]
  },
  {
   "cell_type": "code",
   "execution_count": 50,
   "id": "a1094cfc-cf44-432a-8c43-2ba2fd47767c",
   "metadata": {},
   "outputs": [],
   "source": [
    "from sklearn.preprocessing import LabelEncoder"
   ]
  },
  {
   "cell_type": "code",
   "execution_count": 51,
   "id": "43d0f1ce-d1ba-4287-829d-46b95462ab21",
   "metadata": {},
   "outputs": [],
   "source": [
    "encoder = LabelEncoder()\n",
    "\n",
    "y=encoder.fit_transform(df['sentiment'])"
   ]
  },
  {
   "cell_type": "code",
   "execution_count": 52,
   "id": "e65f2202-5672-4f31-b37c-d34bd422c78d",
   "metadata": {},
   "outputs": [
    {
     "data": {
      "text/plain": [
       "array([1, 1, 1, ..., 0, 0, 1])"
      ]
     },
     "execution_count": 52,
     "metadata": {},
     "output_type": "execute_result"
    }
   ],
   "source": [
    "y"
   ]
  },
  {
   "cell_type": "code",
   "execution_count": 61,
   "id": "3a3ad193-53a3-44b2-a5e4-cc52c952f861",
   "metadata": {},
   "outputs": [],
   "source": [
    "from sklearn.model_selection import train_test_split"
   ]
  },
  {
   "cell_type": "code",
   "execution_count": 63,
   "id": "a89a7afb-1c76-4d5a-9b68-b727be618c9c",
   "metadata": {},
   "outputs": [],
   "source": [
    "x_train , x_test , y_train , y_test = train_test_split(x,y,test_size=0.2,random_state=1)"
   ]
  },
  {
   "cell_type": "code",
   "execution_count": 66,
   "id": "ca22f526-5df6-4a58-956d-4209bd2b005c",
   "metadata": {},
   "outputs": [],
   "source": [
    "from sklearn.ensemble import RandomForestClassifier\n",
    "from sklearn.metrics import accuracy_score"
   ]
  },
  {
   "cell_type": "code",
   "execution_count": 70,
   "id": "eeb1b52d-0964-4d40-8545-3d78c49857fc",
   "metadata": {},
   "outputs": [],
   "source": [
    "rf=RandomForestClassifier()\n",
    "Classifier = RandomForestClassifier(n_estimators=500,random_state=42)"
   ]
  },
  {
   "cell_type": "code",
   "execution_count": 72,
   "id": "953bf2e1-2276-45ab-98bc-3d3377454092",
   "metadata": {},
   "outputs": [],
   "source": [
    "Classifier.fit(x_train,y_train)\n",
    "y_pred = Classifier.predict(x_test)"
   ]
  },
  {
   "cell_type": "code",
   "execution_count": 74,
   "id": "a9c4bcdb-bace-4b54-bdf6-43e2731cfc6e",
   "metadata": {},
   "outputs": [
    {
     "name": "stdout",
     "output_type": "stream",
     "text": [
      "Accuracy: 0.778167\n"
     ]
    }
   ],
   "source": [
    "accuracy = accuracy_score(y_test,y_pred)\n",
    "print(f\"Accuracy: {accuracy:2f}\")"
   ]
  },
  {
   "cell_type": "code",
   "execution_count": null,
   "id": "a5e2606b-075b-4635-9e94-8d60ed6b1ff5",
   "metadata": {},
   "outputs": [],
   "source": []
  }
 ],
 "metadata": {
  "kernelspec": {
   "display_name": "Python [conda env:base] *",
   "language": "python",
   "name": "conda-base-py"
  },
  "language_info": {
   "codemirror_mode": {
    "name": "ipython",
    "version": 3
   },
   "file_extension": ".py",
   "mimetype": "text/x-python",
   "name": "python",
   "nbconvert_exporter": "python",
   "pygments_lexer": "ipython3",
   "version": "3.12.2"
  }
 },
 "nbformat": 4,
 "nbformat_minor": 5
}
