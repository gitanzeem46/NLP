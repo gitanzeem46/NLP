{
 "cells": [
  {
   "cell_type": "markdown",
   "id": "bad867f0-4a81-412d-b9b0-2b0caf597f77",
   "metadata": {},
   "source": [
    "# TOKENIZATION"
   ]
  },
  {
   "cell_type": "code",
   "execution_count": 1,
   "id": "82e64f0c-8142-4c4d-8521-12ab59060b12",
   "metadata": {},
   "outputs": [],
   "source": [
    "import spacy "
   ]
  },
  {
   "cell_type": "code",
   "execution_count": 3,
   "id": "9728d529-9690-49d4-ba71-3ec7857b33d2",
   "metadata": {},
   "outputs": [
    {
     "name": "stderr",
     "output_type": "stream",
     "text": [
      "/opt/anaconda3/lib/python3.12/site-packages/spacy/util.py:910: UserWarning: [W095] Model 'en_core_web_sm' (3.7.1) was trained with spaCy v3.7.2 and may not be 100% compatible with the current version (3.8.2). If you see errors or degraded performance, download a newer compatible model or retrain your custom model with the current spaCy version. For more details and available updates, run: python -m spacy validate\n",
      "  warnings.warn(warn_msg)\n"
     ]
    }
   ],
   "source": [
    "nlp = spacy.load(\"en_core_web_sm\")"
   ]
  },
  {
   "cell_type": "code",
   "execution_count": 35,
   "id": "5b985c2a-f2fa-42ce-a3b2-5b30358dead4",
   "metadata": {},
   "outputs": [],
   "source": [
    "doc = nlp (\"Natural Language Processing is an interesting field of study. It has numerous applications in AI. NLTK is a popular library for working with NLP in Python.\")"
   ]
  },
  {
   "cell_type": "code",
   "execution_count": 37,
   "id": "83ce24e7-e3b7-4f50-bf7e-ed050e06cc3e",
   "metadata": {},
   "outputs": [
    {
     "name": "stdout",
     "output_type": "stream",
     "text": [
      "Natural\n",
      "Language\n",
      "Processing\n",
      "is\n",
      "an\n",
      "interesting\n",
      "field\n",
      "of\n",
      "study\n",
      ".\n",
      "It\n",
      "has\n",
      "numerous\n",
      "applications\n",
      "in\n",
      "AI\n",
      ".\n",
      "NLTK\n",
      "is\n",
      "a\n",
      "popular\n",
      "library\n",
      "for\n",
      "working\n",
      "with\n",
      "NLP\n",
      "in\n",
      "Python\n",
      ".\n"
     ]
    }
   ],
   "source": [
    "for token in doc:\n",
    "    print(token.text)"
   ]
  },
  {
   "cell_type": "markdown",
   "id": "2c368172-839f-4158-9e59-70641d4085eb",
   "metadata": {},
   "source": [
    "# NAMED-ENTITY"
   ]
  },
  {
   "cell_type": "code",
   "execution_count": 7,
   "id": "af5457e5-0028-4548-bd41-96a035dc264b",
   "metadata": {},
   "outputs": [],
   "source": [
    "doc = nlp (\"Apple is looking at buying U.K satrtup for $1 billion\")"
   ]
  },
  {
   "cell_type": "code",
   "execution_count": 9,
   "id": "770b1c90-9896-493f-b404-73bf85c7a332",
   "metadata": {},
   "outputs": [
    {
     "data": {
      "text/plain": [
       "Apple is looking at buying U.K satrtup for $1 billion"
      ]
     },
     "execution_count": 9,
     "metadata": {},
     "output_type": "execute_result"
    }
   ],
   "source": [
    "doc"
   ]
  },
  {
   "cell_type": "code",
   "execution_count": 11,
   "id": "08948a22-d8c9-46e6-9375-6f8d7f5537c2",
   "metadata": {},
   "outputs": [
    {
     "name": "stdout",
     "output_type": "stream",
     "text": [
      "Apple -> PROPN\n",
      "is -> AUX\n",
      "looking -> VERB\n",
      "at -> ADP\n",
      "buying -> VERB\n",
      "U.K -> PROPN\n",
      "satrtup -> NOUN\n",
      "for -> ADP\n",
      "$ -> SYM\n",
      "1 -> NUM\n",
      "billion -> NUM\n"
     ]
    }
   ],
   "source": [
    "for token in doc:\n",
    "    print(token.text, '->', token.pos_)"
   ]
  },
  {
   "cell_type": "code",
   "execution_count": 15,
   "id": "32a789d8-decb-47d4-a319-4c6960fa9eb5",
   "metadata": {},
   "outputs": [],
   "source": [
    "from spacy import displacy"
   ]
  },
  {
   "cell_type": "code",
   "execution_count": 17,
   "id": "ec75671e-fe65-4654-94b9-880c0f886e3e",
   "metadata": {},
   "outputs": [
    {
     "data": {
      "text/html": [
       "<span class=\"tex2jax_ignore\"><div class=\"entities\" style=\"line-height: 2.5; direction: ltr\">\n",
       "<mark class=\"entity\" style=\"background: #7aecec; padding: 0.45em 0.6em; margin: 0 0.25em; line-height: 1; border-radius: 0.35em;\">\n",
       "    Apple\n",
       "    <span style=\"font-size: 0.8em; font-weight: bold; line-height: 1; border-radius: 0.35em; vertical-align: middle; margin-left: 0.5rem\">ORG</span>\n",
       "</mark>\n",
       " is looking at buying \n",
       "<mark class=\"entity\" style=\"background: #7aecec; padding: 0.45em 0.6em; margin: 0 0.25em; line-height: 1; border-radius: 0.35em;\">\n",
       "    U.K\n",
       "    <span style=\"font-size: 0.8em; font-weight: bold; line-height: 1; border-radius: 0.35em; vertical-align: middle; margin-left: 0.5rem\">ORG</span>\n",
       "</mark>\n",
       " satrtup for \n",
       "<mark class=\"entity\" style=\"background: #e4e7d2; padding: 0.45em 0.6em; margin: 0 0.25em; line-height: 1; border-radius: 0.35em;\">\n",
       "    $1 billion\n",
       "    <span style=\"font-size: 0.8em; font-weight: bold; line-height: 1; border-radius: 0.35em; vertical-align: middle; margin-left: 0.5rem\">MONEY</span>\n",
       "</mark>\n",
       "</div></span>"
      ],
      "text/plain": [
       "<IPython.core.display.HTML object>"
      ]
     },
     "metadata": {},
     "output_type": "display_data"
    }
   ],
   "source": [
    "displacy.render(doc, style=\"ent\")"
   ]
  },
  {
   "cell_type": "code",
   "execution_count": 25,
   "id": "2f3217ec-0f8a-4cb8-a8cd-a242b168d4b3",
   "metadata": {},
   "outputs": [
    {
     "name": "stdout",
     "output_type": "stream",
     "text": [
      "Apple -> PROPN\n",
      "is -> AUX\n",
      "looking -> VERB\n",
      "at -> ADP\n",
      "buying -> VERB\n",
      "U.K -> PROPN\n",
      "satrtup -> NOUN\n",
      "for -> ADP\n",
      "$ -> SYM\n",
      "1 -> NUM\n",
      "billion -> NUM\n"
     ]
    }
   ],
   "source": [
    "for token in doc:\n",
    "    print(token.text, '->', token.pos_)"
   ]
  },
  {
   "cell_type": "markdown",
   "id": "3bbcd6d7-6bd7-487f-b2d6-5bd5f3d76221",
   "metadata": {},
   "source": [
    "# lemmatization"
   ]
  },
  {
   "cell_type": "code",
   "execution_count": 39,
   "id": "cf949628-b800-4d83-a509-3d27c8bf5046",
   "metadata": {},
   "outputs": [],
   "source": [
    "doc = nlp(\"Natural Language Processing is an interesting field of study. It has numerous applications in AI. NLTK is a popular library for working with NLP in Python.\")"
   ]
  },
  {
   "cell_type": "code",
   "execution_count": 41,
   "id": "f4879fe7-ea6b-423e-9556-f0235f487bfa",
   "metadata": {},
   "outputs": [
    {
     "data": {
      "text/plain": [
       "Natural Language Processing is an interesting field of study. It has numerous applications in AI. NLTK is a popular library for working with NLP in Python."
      ]
     },
     "execution_count": 41,
     "metadata": {},
     "output_type": "execute_result"
    }
   ],
   "source": [
    "doc"
   ]
  },
  {
   "cell_type": "code",
   "execution_count": 43,
   "id": "9f0139a9-0c7c-45dd-8046-6e03240158a9",
   "metadata": {},
   "outputs": [
    {
     "name": "stdout",
     "output_type": "stream",
     "text": [
      "Natural\n",
      "Language\n",
      "Processing\n",
      "is\n",
      "an\n",
      "interesting\n",
      "field\n",
      "of\n",
      "study\n",
      ".\n",
      "It\n",
      "has\n",
      "numerous\n",
      "applications\n",
      "in\n",
      "AI\n",
      ".\n",
      "NLTK\n",
      "is\n",
      "a\n",
      "popular\n",
      "library\n",
      "for\n",
      "working\n",
      "with\n",
      "NLP\n",
      "in\n",
      "Python\n",
      ".\n"
     ]
    }
   ],
   "source": [
    "for token in doc:\n",
    "    print(token.text)"
   ]
  },
  {
   "cell_type": "code",
   "execution_count": 47,
   "id": "f8f6527a-83ec-4328-a660-79454a4b0f62",
   "metadata": {},
   "outputs": [
    {
     "name": "stdout",
     "output_type": "stream",
     "text": [
      "Natural\n",
      "Language\n",
      "Processing\n",
      "be\n",
      "an\n",
      "interesting\n",
      "field\n",
      "of\n",
      "study\n",
      ".\n",
      "it\n",
      "have\n",
      "numerous\n",
      "application\n",
      "in\n",
      "AI\n",
      ".\n",
      "NLTK\n",
      "be\n",
      "a\n",
      "popular\n",
      "library\n",
      "for\n",
      "work\n",
      "with\n",
      "NLP\n",
      "in\n",
      "Python\n",
      ".\n"
     ]
    }
   ],
   "source": [
    "for token in doc:\n",
    "    print(token.lemma_)"
   ]
  },
  {
   "cell_type": "code",
   "execution_count": null,
   "id": "c25c285a-0819-4b87-86a5-e8dbedfa0753",
   "metadata": {},
   "outputs": [],
   "source": []
  }
 ],
 "metadata": {
  "kernelspec": {
   "display_name": "Python 3 (ipykernel)",
   "language": "python",
   "name": "python3"
  },
  "language_info": {
   "codemirror_mode": {
    "name": "ipython",
    "version": 3
   },
   "file_extension": ".py",
   "mimetype": "text/x-python",
   "name": "python",
   "nbconvert_exporter": "python",
   "pygments_lexer": "ipython3",
   "version": "3.12.2"
  }
 },
 "nbformat": 4,
 "nbformat_minor": 5
}
