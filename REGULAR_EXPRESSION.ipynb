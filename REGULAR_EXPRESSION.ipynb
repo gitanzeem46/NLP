{
 "cells": [
  {
   "cell_type": "code",
   "execution_count": 1,
   "id": "a1d8664c-de67-4eae-a3df-6f28873d5aa6",
   "metadata": {},
   "outputs": [],
   "source": [
    "import re "
   ]
  },
  {
   "cell_type": "code",
   "execution_count": 2,
   "id": "50274eba-7c44-493b-9704-4b567edff70e",
   "metadata": {},
   "outputs": [
    {
     "data": {
      "text/plain": [
       "True"
      ]
     },
     "execution_count": 2,
     "metadata": {},
     "output_type": "execute_result"
    }
   ],
   "source": [
    "text = \"The agent's phone number is 408-555-1234. call soon!\"\n",
    "'phone' in text"
   ]
  },
  {
   "cell_type": "code",
   "execution_count": 3,
   "id": "1facdc9b-2647-403b-86f5-5deab25dccef",
   "metadata": {},
   "outputs": [],
   "source": [
    "pattern = 'phone'"
   ]
  },
  {
   "cell_type": "raw",
   "id": "f1d140f1-5026-4a7e-8e4d-98f3738b864b",
   "metadata": {},
   "source": [
    "re.search(pattern,text)"
   ]
  },
  {
   "cell_type": "code",
   "execution_count": 4,
   "id": "c3ecac69-516b-48aa-b5cd-e51999099413",
   "metadata": {},
   "outputs": [],
   "source": [
    "pattern = \"NOT IN TEXT\""
   ]
  },
  {
   "cell_type": "code",
   "execution_count": 5,
   "id": "608d7608-7740-44f4-ab4d-b324dd5553a9",
   "metadata": {},
   "outputs": [],
   "source": [
    "re.search(pattern,text)"
   ]
  },
  {
   "cell_type": "code",
   "execution_count": 6,
   "id": "9757bbb4-866d-493a-a970-b36277505359",
   "metadata": {},
   "outputs": [],
   "source": [
    "pattern = 'phone'"
   ]
  },
  {
   "cell_type": "code",
   "execution_count": 7,
   "id": "df062e40-b831-4709-9e84-417011aeac3a",
   "metadata": {},
   "outputs": [],
   "source": [
    "match = re.search(pattern,text)"
   ]
  },
  {
   "cell_type": "code",
   "execution_count": 8,
   "id": "55943b5a-c1d3-431a-8e93-444e73a726e0",
   "metadata": {},
   "outputs": [
    {
     "data": {
      "text/plain": [
       "(12, 17)"
      ]
     },
     "execution_count": 8,
     "metadata": {},
     "output_type": "execute_result"
    }
   ],
   "source": [
    "match.span()"
   ]
  },
  {
   "cell_type": "code",
   "execution_count": 9,
   "id": "850ed494-d269-4591-9a1b-c5013e266a9e",
   "metadata": {},
   "outputs": [
    {
     "data": {
      "text/plain": [
       "12"
      ]
     },
     "execution_count": 9,
     "metadata": {},
     "output_type": "execute_result"
    }
   ],
   "source": [
    "match.start()"
   ]
  },
  {
   "cell_type": "code",
   "execution_count": 10,
   "id": "160f5cee-9839-49ee-a752-31171bb0a7a4",
   "metadata": {},
   "outputs": [
    {
     "data": {
      "text/plain": [
       "17"
      ]
     },
     "execution_count": 10,
     "metadata": {},
     "output_type": "execute_result"
    }
   ],
   "source": [
    "match.end()"
   ]
  },
  {
   "cell_type": "code",
   "execution_count": 11,
   "id": "3a82c498-3ca3-478a-b839-86e1c3229bc5",
   "metadata": {},
   "outputs": [],
   "source": [
    "# BUT WHAT IF THE PATTERN OCCURS MORE THAN ONCE?"
   ]
  },
  {
   "cell_type": "code",
   "execution_count": 12,
   "id": "980172e4-d823-47c5-aa5a-ebdcaa9c0631",
   "metadata": {},
   "outputs": [],
   "source": [
    "text = \"my phone is a new phone\""
   ]
  },
  {
   "cell_type": "code",
   "execution_count": 13,
   "id": "8fb5798b-13ad-4584-9c6d-3cdea32faa4b",
   "metadata": {},
   "outputs": [],
   "source": [
    "match = re.search(\"phone\",text)"
   ]
  },
  {
   "cell_type": "code",
   "execution_count": 14,
   "id": "04869a74-948f-49ec-81d3-4ef5d1f0e78f",
   "metadata": {},
   "outputs": [
    {
     "data": {
      "text/plain": [
       "(3, 8)"
      ]
     },
     "execution_count": 14,
     "metadata": {},
     "output_type": "execute_result"
    }
   ],
   "source": [
    "match.span()"
   ]
  },
  {
   "cell_type": "code",
   "execution_count": 15,
   "id": "cb31cf82-0463-4bcc-9ccf-adc67a461e55",
   "metadata": {},
   "outputs": [],
   "source": [
    "matches = re.findall(\"phone\",text)"
   ]
  },
  {
   "cell_type": "code",
   "execution_count": 16,
   "id": "29962fd3-a420-4beb-81d3-2ad6548a9046",
   "metadata": {},
   "outputs": [
    {
     "data": {
      "text/plain": [
       "['phone', 'phone']"
      ]
     },
     "execution_count": 16,
     "metadata": {},
     "output_type": "execute_result"
    }
   ],
   "source": [
    "matches"
   ]
  },
  {
   "cell_type": "code",
   "execution_count": 17,
   "id": "b546ae4d-d556-4a29-93c3-2c8dc805d78d",
   "metadata": {},
   "outputs": [
    {
     "data": {
      "text/plain": [
       "2"
      ]
     },
     "execution_count": 17,
     "metadata": {},
     "output_type": "execute_result"
    }
   ],
   "source": [
    "len(matches)"
   ]
  },
  {
   "cell_type": "code",
   "execution_count": 18,
   "id": "6e7be0db-eb18-4d9b-ba9d-4af438e2caba",
   "metadata": {},
   "outputs": [],
   "source": [
    "#TO GET ACTUAL MATCHES"
   ]
  },
  {
   "cell_type": "code",
   "execution_count": 19,
   "id": "be9a495a-d3c1-4709-8238-83354532efdb",
   "metadata": {},
   "outputs": [
    {
     "name": "stdout",
     "output_type": "stream",
     "text": [
      "(3, 9)\n"
     ]
    }
   ],
   "source": [
    "for match in re.finditer(\"phone \",text):\n",
    "    print(match.span())"
   ]
  },
  {
   "cell_type": "code",
   "execution_count": 20,
   "id": "60ea9346-2ec7-4a63-b6e2-75f681b60995",
   "metadata": {},
   "outputs": [],
   "source": [
    "#PATTERN"
   ]
  },
  {
   "cell_type": "code",
   "execution_count": 21,
   "id": "e91dc984-68ce-402c-bdb8-b5d0d66e22db",
   "metadata": {},
   "outputs": [],
   "source": [
    "text = \"my telephone number is 408-555-1234\""
   ]
  },
  {
   "cell_type": "code",
   "execution_count": 25,
   "id": "163346d8-e039-4386-aa77-314bda7c2b5e",
   "metadata": {},
   "outputs": [],
   "source": [
    "phone = re.search(r'\\d\\d\\d-\\d\\d\\d-\\d\\d\\d\\d',text)"
   ]
  },
  {
   "cell_type": "code",
   "execution_count": 27,
   "id": "69b9a86d-73f5-49c0-98c5-51891832db03",
   "metadata": {},
   "outputs": [
    {
     "data": {
      "text/plain": [
       "<re.Match object; span=(23, 35), match='408-555-1234'>"
      ]
     },
     "execution_count": 27,
     "metadata": {},
     "output_type": "execute_result"
    }
   ],
   "source": [
    "phone"
   ]
  },
  {
   "cell_type": "code",
   "execution_count": 29,
   "id": "f25255ab-6685-4f31-b505-bff4f78bc71e",
   "metadata": {},
   "outputs": [
    {
     "data": {
      "text/plain": [
       "'408-555-1234'"
      ]
     },
     "execution_count": 29,
     "metadata": {},
     "output_type": "execute_result"
    }
   ],
   "source": [
    "phone.group()"
   ]
  },
  {
   "cell_type": "code",
   "execution_count": 31,
   "id": "4da51ade-3c73-4f94-9113-4336deae1f63",
   "metadata": {},
   "outputs": [],
   "source": [
    "#GROUP"
   ]
  },
  {
   "cell_type": "code",
   "execution_count": 92,
   "id": "842fd3cb-99e2-4590-8a3c-c07134a0e439",
   "metadata": {},
   "outputs": [],
   "source": [
    "phone_pattern = re.compile(r'(\\d{3})-(\\d{3})-(\\d{4})') "
   ]
  },
  {
   "cell_type": "code",
   "execution_count": 94,
   "id": "5b01c319-0fb8-48d9-a158-fdb440fcf63a",
   "metadata": {},
   "outputs": [],
   "source": [
    "results = re.search(phone_pattern,text)"
   ]
  },
  {
   "cell_type": "code",
   "execution_count": 96,
   "id": "c3dd7aa9-8fe2-4df6-9065-77612b1a9796",
   "metadata": {},
   "outputs": [
    {
     "data": {
      "text/plain": [
       "'408-555-1234'"
      ]
     },
     "execution_count": 96,
     "metadata": {},
     "output_type": "execute_result"
    }
   ],
   "source": [
    "result.group()"
   ]
  },
  {
   "cell_type": "code",
   "execution_count": 78,
   "id": "67eac996-dc5e-4e6c-bddc-0897ded28fcc",
   "metadata": {},
   "outputs": [],
   "source": [
    "# THE ENTIRE RESULT!"
   ]
  },
  {
   "cell_type": "code",
   "execution_count": 98,
   "id": "3f4d0aad-5f1f-4ff6-aab7-4ebd2519f732",
   "metadata": {},
   "outputs": [
    {
     "data": {
      "text/plain": [
       "'408-555-1234'"
      ]
     },
     "execution_count": 98,
     "metadata": {},
     "output_type": "execute_result"
    }
   ],
   "source": [
    "result.group()"
   ]
  },
  {
   "cell_type": "code",
   "execution_count": 102,
   "id": "ca6b1798-842f-4d2e-91e8-8584a4180bb2",
   "metadata": {},
   "outputs": [
    {
     "data": {
      "text/plain": [
       "'408'"
      ]
     },
     "execution_count": 102,
     "metadata": {},
     "output_type": "execute_result"
    }
   ],
   "source": [
    "result.group(1)"
   ]
  },
  {
   "cell_type": "code",
   "execution_count": 104,
   "id": "66a49f19-5add-4c55-93ee-78b157a61ce7",
   "metadata": {},
   "outputs": [
    {
     "data": {
      "text/plain": [
       "'555'"
      ]
     },
     "execution_count": 104,
     "metadata": {},
     "output_type": "execute_result"
    }
   ],
   "source": [
    "result.group(2)"
   ]
  },
  {
   "cell_type": "code",
   "execution_count": 106,
   "id": "a3290f31-ff09-47fc-a9dd-f3fd92439cf8",
   "metadata": {},
   "outputs": [
    {
     "data": {
      "text/plain": [
       "'1234'"
      ]
     },
     "execution_count": 106,
     "metadata": {},
     "output_type": "execute_result"
    }
   ],
   "source": [
    "result.group(3)"
   ]
  },
  {
   "cell_type": "code",
   "execution_count": 112,
   "id": "e0e48f0c-4ea2-4ce2-887b-935fb6cc4326",
   "metadata": {},
   "outputs": [],
   "source": [
    "#ADDITIONAL REFEX syntax"
   ]
  },
  {
   "cell_type": "code",
   "execution_count": 114,
   "id": "fcee4f58-7182-4411-8430-f4b70af9cf46",
   "metadata": {},
   "outputs": [],
   "source": [
    "# OR operator"
   ]
  },
  {
   "cell_type": "code",
   "execution_count": 116,
   "id": "ab495896-d892-4544-be30-1f1a0b226fdd",
   "metadata": {},
   "outputs": [
    {
     "data": {
      "text/plain": [
       "<re.Match object; span=(5, 8), match='man'>"
      ]
     },
     "execution_count": 116,
     "metadata": {},
     "output_type": "execute_result"
    }
   ],
   "source": [
    "re.search(r\"man|woman\",\"This man was here.\")"
   ]
  },
  {
   "cell_type": "code",
   "execution_count": 118,
   "id": "9bbb1a44-dae0-41da-9447-d69f41730c37",
   "metadata": {},
   "outputs": [
    {
     "data": {
      "text/plain": [
       "<re.Match object; span=(5, 10), match='woman'>"
      ]
     },
     "execution_count": 118,
     "metadata": {},
     "output_type": "execute_result"
    }
   ],
   "source": [
    "re.search(r\"man|woman\",\"This woman was here.\")"
   ]
  },
  {
   "cell_type": "code",
   "execution_count": 120,
   "id": "a399e8c4-cc94-4fa9-bd06-e39846ac8964",
   "metadata": {},
   "outputs": [],
   "source": [
    "#This wilcard character"
   ]
  },
  {
   "cell_type": "code",
   "execution_count": 122,
   "id": "519794c3-e594-4f10-b9c0-7241e85ebe11",
   "metadata": {},
   "outputs": [
    {
     "data": {
      "text/plain": [
       "['cat', 'hat', 'sat']"
      ]
     },
     "execution_count": 122,
     "metadata": {},
     "output_type": "execute_result"
    }
   ],
   "source": [
    "re.findall(r\".at\",\"The cat in the hat sat here.\")"
   ]
  },
  {
   "cell_type": "code",
   "execution_count": 134,
   "id": "4e757594-9df5-4e88-9087-af8c14570c73",
   "metadata": {},
   "outputs": [
    {
     "data": {
      "text/plain": [
       "['cat in']"
      ]
     },
     "execution_count": 134,
     "metadata": {},
     "output_type": "execute_result"
    }
   ],
   "source": [
    "re.findall(r\"..in\",\"The cat in the hat sat here.\")\n",
    "re.findall(r\"....in\",\"The cat in the hat sat here.\")"
   ]
  },
  {
   "cell_type": "code",
   "execution_count": 128,
   "id": "72e37950-9cef-48d0-980c-7cef0bd38c8b",
   "metadata": {},
   "outputs": [
    {
     "data": {
      "text/plain": [
       "['bat', 'splat']"
      ]
     },
     "execution_count": 128,
     "metadata": {},
     "output_type": "execute_result"
    }
   ],
   "source": [
    "#One or more non-whitespace that ends with 'at'\n",
    "\n",
    "re.findall(r'\\S+at',\"The bat went splat\")"
   ]
  },
  {
   "cell_type": "code",
   "execution_count": 136,
   "id": "e5dad953-02a8-4717-b9bd-40b6804795d3",
   "metadata": {},
   "outputs": [],
   "source": [
    "# Starts with (^) and End with ($) "
   ]
  },
  {
   "cell_type": "code",
   "execution_count": 138,
   "id": "0e3aef4a-0693-4c8f-bb27-73505126683d",
   "metadata": {},
   "outputs": [
    {
     "data": {
      "text/plain": [
       "['2']"
      ]
     },
     "execution_count": 138,
     "metadata": {},
     "output_type": "execute_result"
    }
   ],
   "source": [
    "# End with a number \n",
    "re.findall(r'\\d$','This ends with a number 2')"
   ]
  },
  {
   "cell_type": "code",
   "execution_count": 140,
   "id": "68a266b1-7027-4b6b-a73b-4540fcfe16b0",
   "metadata": {},
   "outputs": [
    {
     "data": {
      "text/plain": [
       "['1']"
      ]
     },
     "execution_count": 140,
     "metadata": {},
     "output_type": "execute_result"
    }
   ],
   "source": [
    "#starts with a number\n",
    "re.findall(r'^\\d','1 is the loneliest mumber.')"
   ]
  },
  {
   "cell_type": "code",
   "execution_count": 142,
   "id": "8257b4bc-fafc-4cd8-abb8-94cfc11ef415",
   "metadata": {},
   "outputs": [],
   "source": [
    "#Exclusion"
   ]
  },
  {
   "cell_type": "code",
   "execution_count": 148,
   "id": "9b82e3d4-a728-4d72-b397-4c61a996df40",
   "metadata": {},
   "outputs": [],
   "source": [
    "phrase = \"there are 3 numbers 34 inside 5 this sentence.\""
   ]
  },
  {
   "cell_type": "code",
   "execution_count": 150,
   "id": "ae1780d4-e68e-456f-a2e3-b21572a41d05",
   "metadata": {},
   "outputs": [
    {
     "data": {
      "text/plain": [
       "['t',\n",
       " 'h',\n",
       " 'e',\n",
       " 'r',\n",
       " 'e',\n",
       " ' ',\n",
       " 'a',\n",
       " 'r',\n",
       " 'e',\n",
       " ' ',\n",
       " ' ',\n",
       " 'n',\n",
       " 'u',\n",
       " 'm',\n",
       " 'b',\n",
       " 'e',\n",
       " 'r',\n",
       " 's',\n",
       " ' ',\n",
       " ' ',\n",
       " 'i',\n",
       " 'n',\n",
       " 's',\n",
       " 'i',\n",
       " 'd',\n",
       " 'e',\n",
       " ' ',\n",
       " ' ',\n",
       " 't',\n",
       " 'h',\n",
       " 'i',\n",
       " 's',\n",
       " ' ',\n",
       " 's',\n",
       " 'e',\n",
       " 'n',\n",
       " 't',\n",
       " 'e',\n",
       " 'n',\n",
       " 'c',\n",
       " 'e',\n",
       " '.']"
      ]
     },
     "execution_count": 150,
     "metadata": {},
     "output_type": "execute_result"
    }
   ],
   "source": [
    "re.findall(r'[^\\d]',phrase)"
   ]
  },
  {
   "cell_type": "code",
   "execution_count": 152,
   "id": "d68b48ea-8980-4aec-a665-d8c5aeda28c3",
   "metadata": {},
   "outputs": [
    {
     "data": {
      "text/plain": [
       "['there are ', ' numbers ', ' inside ', ' this sentence.']"
      ]
     },
     "execution_count": 152,
     "metadata": {},
     "output_type": "execute_result"
    }
   ],
   "source": [
    "re.findall(r'[^\\d]+',phrase)"
   ]
  },
  {
   "cell_type": "code",
   "execution_count": 154,
   "id": "d107c9e2-44f5-420f-8f01-f62cc64e4a24",
   "metadata": {},
   "outputs": [],
   "source": [
    "test_phrase = 'This is a string! but it has punctuation. how can we remove it?'"
   ]
  },
  {
   "cell_type": "code",
   "execution_count": 158,
   "id": "6d3f349c-dcef-485a-aa71-e6268d5f92e3",
   "metadata": {},
   "outputs": [
    {
     "data": {
      "text/plain": [
       "['This is a string', ' but it has punctuation', ' how can we remove it']"
      ]
     },
     "execution_count": 158,
     "metadata": {},
     "output_type": "execute_result"
    }
   ],
   "source": [
    "re.findall('[^!.?]+',test_phrase)"
   ]
  },
  {
   "cell_type": "code",
   "execution_count": null,
   "id": "61bc4fc2-78e9-4eb0-accf-35093f6b5d87",
   "metadata": {},
   "outputs": [],
   "source": []
  }
 ],
 "metadata": {
  "kernelspec": {
   "display_name": "Python 3 (ipykernel)",
   "language": "python",
   "name": "python3"
  },
  "language_info": {
   "codemirror_mode": {
    "name": "ipython",
    "version": 3
   },
   "file_extension": ".py",
   "mimetype": "text/x-python",
   "name": "python",
   "nbconvert_exporter": "python",
   "pygments_lexer": "ipython3",
   "version": "3.12.2"
  }
 },
 "nbformat": 4,
 "nbformat_minor": 5
}
