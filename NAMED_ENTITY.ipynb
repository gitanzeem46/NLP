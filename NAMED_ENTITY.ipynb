{
 "cells": [
  {
   "cell_type": "code",
   "execution_count": 3,
   "id": "dd9a1eaf-ba9e-4098-b080-c5faa0c55a41",
   "metadata": {},
   "outputs": [],
   "source": [
    "import spacy"
   ]
  },
  {
   "cell_type": "code",
   "execution_count": 4,
   "id": "c1a06507-ba3e-4b0b-9a3b-36247536472a",
   "metadata": {},
   "outputs": [
    {
     "name": "stderr",
     "output_type": "stream",
     "text": [
      "/opt/anaconda3/lib/python3.12/site-packages/spacy/util.py:910: UserWarning: [W095] Model 'en_core_web_sm' (3.7.1) was trained with spaCy v3.7.2 and may not be 100% compatible with the current version (3.8.2). If you see errors or degraded performance, download a newer compatible model or retrain your custom model with the current spaCy version. For more details and available updates, run: python -m spacy validate\n",
      "  warnings.warn(warn_msg)\n"
     ]
    }
   ],
   "source": [
    "nlp = spacy.load(\"en_core_web_sm\")"
   ]
  },
  {
   "cell_type": "code",
   "execution_count": 5,
   "id": "5aaede64-07a3-45b2-9ea5-9673b0eff6b8",
   "metadata": {},
   "outputs": [],
   "source": [
    "def show_ents(doc):\n",
    "    if doc.ents:\n",
    "        for ent in doc.ents:\n",
    "            print(ent.text+' - '+ent.label_+' - '+str(spacy.explain(ent.label_)))\n",
    "    else:\n",
    "        print('No named entities found.')"
   ]
  },
  {
   "cell_type": "code",
   "execution_count": 6,
   "id": "1d061134-008c-47db-a8d6-9582892435c7",
   "metadata": {},
   "outputs": [],
   "source": [
    "doc = nlp(u'May i go to washington, DC next May to see the Washington Manument?')"
   ]
  },
  {
   "cell_type": "code",
   "execution_count": 7,
   "id": "cafdfe5a-f3f5-4175-b8dd-4406590be38d",
   "metadata": {},
   "outputs": [
    {
     "name": "stdout",
     "output_type": "stream",
     "text": [
      "washington - GPE - Countries, cities, states\n",
      "DC - GPE - Countries, cities, states\n",
      "next May - DATE - Absolute or relative dates or periods\n",
      "the Washington Manument - ORG - Companies, agencies, institutions, etc.\n"
     ]
    }
   ],
   "source": [
    "show_ents(doc)"
   ]
  },
  {
   "cell_type": "code",
   "execution_count": 8,
   "id": "78b582c8-3e18-4d1a-b776-ef690e51711d",
   "metadata": {},
   "outputs": [],
   "source": [
    "doc = nlp(u'can i please borrow 500 dollars from you to buy some Microsoft stock?')"
   ]
  },
  {
   "cell_type": "code",
   "execution_count": 9,
   "id": "34b29c98-490b-4e4d-815b-9a7ee25c4c66",
   "metadata": {},
   "outputs": [
    {
     "name": "stdout",
     "output_type": "stream",
     "text": [
      "500 dollars 4 6 20 31 MONEY\n",
      "Microsoft 11 12 53 62 ORG\n"
     ]
    }
   ],
   "source": [
    "for ent in doc.ents:\n",
    "    print(ent.text, ent.start, ent.end, ent.start_char, ent.end_char,\n",
    "ent.label_)"
   ]
  },
  {
   "cell_type": "code",
   "execution_count": 10,
   "id": "60f2a000-7fbe-4e65-a5a9-c42bc0a3d109",
   "metadata": {},
   "outputs": [],
   "source": [
    "# Adding a Named entity to a span"
   ]
  },
  {
   "cell_type": "code",
   "execution_count": 11,
   "id": "937c850c-a596-4780-81b2-95909748cde4",
   "metadata": {},
   "outputs": [],
   "source": [
    "doc = nlp(u'Tesla to build a U.K. factory for $6 million')"
   ]
  },
  {
   "cell_type": "code",
   "execution_count": 13,
   "id": "0970c679-759a-4f67-ae17-177f6dd6c74f",
   "metadata": {},
   "outputs": [
    {
     "name": "stdout",
     "output_type": "stream",
     "text": [
      "U.K. - GPE - Countries, cities, states\n",
      "$6 million - MONEY - Monetary values, including unit\n"
     ]
    }
   ],
   "source": [
    "show_ents(doc)"
   ]
  },
  {
   "cell_type": "code",
   "execution_count": 14,
   "id": "370f3d09-8ec8-46ce-abad-41393b709426",
   "metadata": {},
   "outputs": [],
   "source": [
    "# Right Now, spacy does not recognize \"Tesla\" as a company"
   ]
  },
  {
   "cell_type": "code",
   "execution_count": 15,
   "id": "a5947bb1-ab91-435e-97da-85c9e35cf186",
   "metadata": {},
   "outputs": [],
   "source": [
    "from spacy.tokens import Span"
   ]
  },
  {
   "cell_type": "code",
   "execution_count": 27,
   "id": "ef5c7152-c336-4e7f-8704-9b0b9971b1d4",
   "metadata": {},
   "outputs": [],
   "source": [
    "ORG = doc.vocab.strings[u'ORG']"
   ]
  },
  {
   "cell_type": "code",
   "execution_count": 29,
   "id": "7fb4ce6a-1807-49f4-a167-43a552bffb22",
   "metadata": {},
   "outputs": [],
   "source": [
    "new_ent = Span(doc, 0, 1, label=ORG)"
   ]
  },
  {
   "cell_type": "code",
   "execution_count": 31,
   "id": "3520cd11-f3f4-4fd6-83af-074d558faaa7",
   "metadata": {},
   "outputs": [],
   "source": [
    "doc.ents = list(doc.ents)+[new_ent]"
   ]
  },
  {
   "cell_type": "code",
   "execution_count": 33,
   "id": "d4c3984f-9364-47fa-9548-6d436526a322",
   "metadata": {},
   "outputs": [
    {
     "name": "stdout",
     "output_type": "stream",
     "text": [
      "Tesla 0 1 0 5 ORG\n",
      "U.K. 4 5 17 21 GPE\n",
      "$6 million 7 10 34 44 MONEY\n"
     ]
    }
   ],
   "source": [
    "for ent in doc.ents:\n",
    "    print(ent.text, ent.start, ent.end, ent.start_char, ent.end_char,\n",
    "ent.label_)"
   ]
  },
  {
   "cell_type": "code",
   "execution_count": 35,
   "id": "91a8144e-ab58-46db-9e1d-1bf47198c4fb",
   "metadata": {},
   "outputs": [
    {
     "name": "stdout",
     "output_type": "stream",
     "text": [
      "Tesla ORG\n",
      "U.K. GPE\n",
      "$6 million MONEY\n"
     ]
    }
   ],
   "source": [
    "for ent in doc.ents:\n",
    "    print(ent.text, ent.label_)"
   ]
  },
  {
   "cell_type": "code",
   "execution_count": 37,
   "id": "16a87df7-cac7-49dc-9980-8b3bc62aca21",
   "metadata": {},
   "outputs": [],
   "source": [
    "import spacy\n",
    "from spacy import displacy"
   ]
  },
  {
   "cell_type": "code",
   "execution_count": 39,
   "id": "1818e1d9-6ddc-45e0-822a-b56d607e6def",
   "metadata": {},
   "outputs": [],
   "source": [
    "# Load a SpaCy model\n",
    "nlp = spacy.load(\"en_core_web_sm\")"
   ]
  },
  {
   "cell_type": "code",
   "execution_count": 40,
   "id": "ee53ba0e-460e-4b16-8970-b07510137d81",
   "metadata": {},
   "outputs": [],
   "source": [
    "# Process a sentence\n",
    "doc = nlp(\"Tesla is revolutionizing the electric vehicle industry.\")"
   ]
  },
  {
   "cell_type": "code",
   "execution_count": 41,
   "id": "2ec23ddc-0571-4670-b88e-9f122f642601",
   "metadata": {},
   "outputs": [
    {
     "data": {
      "text/html": [
       "<span class=\"tex2jax_ignore\"><div class=\"entities\" style=\"line-height: 2.5; direction: ltr\">\n",
       "<mark class=\"entity\" style=\"background: #7aecec; padding: 0.45em 0.6em; margin: 0 0.25em; line-height: 1; border-radius: 0.35em;\">\n",
       "    Tesla\n",
       "    <span style=\"font-size: 0.8em; font-weight: bold; line-height: 1; border-radius: 0.35em; vertical-align: middle; margin-left: 0.5rem\">ORG</span>\n",
       "</mark>\n",
       " is revolutionizing the electric vehicle industry.</div></span>"
      ],
      "text/plain": [
       "<IPython.core.display.HTML object>"
      ]
     },
     "metadata": {},
     "output_type": "display_data"
    }
   ],
   "source": [
    "# Visualize entities using displacy\n",
    "displacy.render(doc, style=\"ent\", jupyter=True)  # Use 'jupyter=True' for Jupyter/Colab"
   ]
  },
  {
   "cell_type": "code",
   "execution_count": 45,
   "id": "3dca3925-2d02-4081-8534-157f6fc32635",
   "metadata": {},
   "outputs": [],
   "source": [
    "doc = nlp(u' Our company plans to introduce a new vacuum cleaner.'\n",
    "          u'if succesful, the vacuum cleaner will be our first product.')"
   ]
  },
  {
   "cell_type": "code",
   "execution_count": 47,
   "id": "6eab5bae-35f3-4459-ad10-dc3b8be4cdd8",
   "metadata": {},
   "outputs": [
    {
     "name": "stdout",
     "output_type": "stream",
     "text": [
      "first - ORDINAL - \"first\", \"second\", etc.\n"
     ]
    }
   ],
   "source": [
    "show_ents(doc)"
   ]
  },
  {
   "cell_type": "code",
   "execution_count": 49,
   "id": "aa7e4071-f595-4f9a-b3f6-af7b90491546",
   "metadata": {},
   "outputs": [],
   "source": [
    "# import PhraseMatcher and create a matcher object:\n",
    "from spacy.matcher import PhraseMatcher"
   ]
  },
  {
   "cell_type": "code",
   "execution_count": 51,
   "id": "12d3db53-a92c-4872-a6ad-0fe8dd2bcfa0",
   "metadata": {},
   "outputs": [],
   "source": [
    "matcher = PhraseMatcher(nlp.vocab)"
   ]
  },
  {
   "cell_type": "code",
   "execution_count": 53,
   "id": "96bd1bf1-9297-49cb-95cb-0f32f0faeb65",
   "metadata": {},
   "outputs": [],
   "source": [
    "phrase_list = ['vacuum cleaner', 'vacuum-cleaner']\n",
    "phrase_patterns = [nlp(text) for text in phrase_list]"
   ]
  },
  {
   "cell_type": "code",
   "execution_count": 55,
   "id": "317c69fb-7a80-48f4-a808-a4f30d865fc8",
   "metadata": {},
   "outputs": [
    {
     "data": {
      "text/plain": [
       "[(2689272359382549672, 13, 15)]"
      ]
     },
     "execution_count": 55,
     "metadata": {},
     "output_type": "execute_result"
    }
   ],
   "source": [
    "matcher.add('newproduct', None, *phrase_patterns)\n",
    "matches = matcher(doc)\n",
    "matches"
   ]
  },
  {
   "cell_type": "code",
   "execution_count": 57,
   "id": "c1865e85-7a09-4b79-8181-2d1fb2ccefb8",
   "metadata": {},
   "outputs": [],
   "source": [
    "# here we create spans from each match, and create named entities from them:\n",
    "from spacy.tokens import span"
   ]
  },
  {
   "cell_type": "code",
   "execution_count": 64,
   "id": "0c5a0714-2366-41d3-97f3-8a08835f5130",
   "metadata": {},
   "outputs": [
    {
     "name": "stdout",
     "output_type": "stream",
     "text": [
      "vacuum cleaner - PRODUCT - Objects, vehicles, foods, etc. (not services)\n",
      "first - ORDINAL - \"first\", \"second\", etc.\n"
     ]
    }
   ],
   "source": [
    "from spacy.tokens import Span\n",
    "\n",
    "PROD = doc.vocab.strings[u'PRODUCT']\n",
    "new_event = [Span(doc, match[1], match[2], label=PROD) for match in matches]\n",
    "doc.ents = list(doc.ents) + new_event\n",
    "show_ents(doc)"
   ]
  },
  {
   "cell_type": "code",
   "execution_count": 66,
   "id": "f1e1f4aa-2a42-4a19-802d-d013257d0eec",
   "metadata": {},
   "outputs": [
    {
     "name": "stdout",
     "output_type": "stream",
     "text": [
      "29.50 - MONEY - Monetary values, including unit\n",
      "five dollars - MONEY - Monetary values, including unit\n"
     ]
    }
   ],
   "source": [
    "doc = nlp(u'Originally phriced at $29.50, the sweater was marked down to five dollars.')\n",
    "show_ents(doc)"
   ]
  },
  {
   "cell_type": "code",
   "execution_count": 70,
   "id": "a44953a6-d9d5-4636-94bd-8e7dd90cce2a",
   "metadata": {},
   "outputs": [
    {
     "data": {
      "text/plain": [
       "2"
      ]
     },
     "execution_count": 70,
     "metadata": {},
     "output_type": "execute_result"
    }
   ],
   "source": [
    "len([ent for ent in doc.ents if ent.label_=='MONEY'])"
   ]
  },
  {
   "cell_type": "code",
   "execution_count": 72,
   "id": "4a142bd7-4e1f-4b14-90f3-c85de59986fa",
   "metadata": {},
   "outputs": [],
   "source": [
    "# problem with line Breaks"
   ]
  },
  {
   "cell_type": "code",
   "execution_count": 74,
   "id": "b1b3e0b5-f2b3-4b45-882e-5932f80e6b49",
   "metadata": {},
   "outputs": [
    {
     "name": "stdout",
     "output_type": "stream",
     "text": [
      "29.50 - MONEY - Monetary values, including unit\n",
      "five dollars - MONEY - Monetary values, including unit\n"
     ]
    }
   ],
   "source": [
    "spacy.__version__\n",
    "doc = nlp(u'Originally phriced at $29.50, the sweater was marked down to five dollars.')\n",
    "show_ents(doc)"
   ]
  },
  {
   "cell_type": "code",
   "execution_count": 76,
   "id": "dfdf4b96-6ab4-4e05-b735-b5631ea60b58",
   "metadata": {},
   "outputs": [],
   "source": [
    "doc = nlp(u\"Autonomous cars shift insurance liability toward manufacturers.\")"
   ]
  },
  {
   "cell_type": "code",
   "execution_count": 82,
   "id": "9210bd83-6ce2-43cb-bd20-165b16d92539",
   "metadata": {},
   "outputs": [
    {
     "name": "stdout",
     "output_type": "stream",
     "text": [
      "Autonomous cars - cars-nsubj - shift\n",
      "insurance liability - liability-dobj - shift\n",
      "manufacturers - manufacturers-pobj - toward\n"
     ]
    }
   ],
   "source": [
    "for chunk in doc.noun_chunks:\n",
    "    print(chunk.text+' - '+chunk.root.text+'-'+chunk.root.dep_+' - '+chunk.root.head.text)"
   ]
  },
  {
   "cell_type": "code",
   "execution_count": 84,
   "id": "d99047dd-3154-4086-92f4-44d2e5f10115",
   "metadata": {},
   "outputs": [],
   "source": [
    "# Visualizing Named Entities"
   ]
  },
  {
   "cell_type": "code",
   "execution_count": 86,
   "id": "8da16ad3-4c57-4350-a0af-51c19ae32475",
   "metadata": {},
   "outputs": [],
   "source": [
    "import spacy"
   ]
  },
  {
   "cell_type": "code",
   "execution_count": 92,
   "id": "897fdbb4-4f24-4d63-8712-6123bf17d893",
   "metadata": {},
   "outputs": [],
   "source": [
    "nlp = spacy.load(\"en_core_web_sm\")"
   ]
  },
  {
   "cell_type": "code",
   "execution_count": 90,
   "id": "0044dd9b-d19c-4f24-abd2-90773b996cbd",
   "metadata": {},
   "outputs": [],
   "source": [
    "from spacy import displacy"
   ]
  },
  {
   "cell_type": "code",
   "execution_count": 108,
   "id": "727e848c-0a26-4540-8677-fb1f2adfe82b",
   "metadata": {},
   "outputs": [],
   "source": [
    "doc =  nlp (u' Over the last quarter Apple sold nearly 20 thousand iPods for a profit of $6 million.'\n",
    "            u'By contrast, sony sold only 7 thousand Walkman music players.')"
   ]
  },
  {
   "cell_type": "code",
   "execution_count": 106,
   "id": "d08d2bd3-5b92-4b5e-98e3-be7313001db5",
   "metadata": {},
   "outputs": [
    {
     "data": {
      "text/html": [
       "<span class=\"tex2jax_ignore\"><div class=\"entities\" style=\"line-height: 2.5; direction: ltr\"> Over \n",
       "<mark class=\"entity\" style=\"background: #bfe1d9; padding: 0.45em 0.6em; margin: 0 0.25em; line-height: 1; border-radius: 0.35em;\">\n",
       "    the last quarter\n",
       "    <span style=\"font-size: 0.8em; font-weight: bold; line-height: 1; border-radius: 0.35em; vertical-align: middle; margin-left: 0.5rem\">DATE</span>\n",
       "</mark>\n",
       " \n",
       "<mark class=\"entity\" style=\"background: #7aecec; padding: 0.45em 0.6em; margin: 0 0.25em; line-height: 1; border-radius: 0.35em;\">\n",
       "    Apple\n",
       "    <span style=\"font-size: 0.8em; font-weight: bold; line-height: 1; border-radius: 0.35em; vertical-align: middle; margin-left: 0.5rem\">ORG</span>\n",
       "</mark>\n",
       " sold \n",
       "<mark class=\"entity\" style=\"background: #e4e7d2; padding: 0.45em 0.6em; margin: 0 0.25em; line-height: 1; border-radius: 0.35em;\">\n",
       "    nearly 20 thousand\n",
       "    <span style=\"font-size: 0.8em; font-weight: bold; line-height: 1; border-radius: 0.35em; vertical-align: middle; margin-left: 0.5rem\">CARDINAL</span>\n",
       "</mark>\n",
       " \n",
       "<mark class=\"entity\" style=\"background: #bfeeb7; padding: 0.45em 0.6em; margin: 0 0.25em; line-height: 1; border-radius: 0.35em;\">\n",
       "    iPods\n",
       "    <span style=\"font-size: 0.8em; font-weight: bold; line-height: 1; border-radius: 0.35em; vertical-align: middle; margin-left: 0.5rem\">PRODUCT</span>\n",
       "</mark>\n",
       " for a profit of \n",
       "<mark class=\"entity\" style=\"background: #e4e7d2; padding: 0.45em 0.6em; margin: 0 0.25em; line-height: 1; border-radius: 0.35em;\">\n",
       "    $6 million\n",
       "    <span style=\"font-size: 0.8em; font-weight: bold; line-height: 1; border-radius: 0.35em; vertical-align: middle; margin-left: 0.5rem\">MONEY</span>\n",
       "</mark>\n",
       ".By contrast, \n",
       "<mark class=\"entity\" style=\"background: #7aecec; padding: 0.45em 0.6em; margin: 0 0.25em; line-height: 1; border-radius: 0.35em;\">\n",
       "    sony\n",
       "    <span style=\"font-size: 0.8em; font-weight: bold; line-height: 1; border-radius: 0.35em; vertical-align: middle; margin-left: 0.5rem\">ORG</span>\n",
       "</mark>\n",
       " sold \n",
       "<mark class=\"entity\" style=\"background: #e4e7d2; padding: 0.45em 0.6em; margin: 0 0.25em; line-height: 1; border-radius: 0.35em;\">\n",
       "    only 7 thousand\n",
       "    <span style=\"font-size: 0.8em; font-weight: bold; line-height: 1; border-radius: 0.35em; vertical-align: middle; margin-left: 0.5rem\">CARDINAL</span>\n",
       "</mark>\n",
       " Walkman music players.</div></span>"
      ],
      "text/plain": [
       "<IPython.core.display.HTML object>"
      ]
     },
     "metadata": {},
     "output_type": "display_data"
    }
   ],
   "source": [
    "displacy.render(doc,style='ent', jupyter=True)"
   ]
  },
  {
   "cell_type": "markdown",
   "id": "d90415f9-4211-4e72-9170-b89839578d38",
   "metadata": {},
   "source": [
    "# Sentence segmentation"
   ]
  },
  {
   "cell_type": "code",
   "execution_count": 111,
   "id": "f53d1810-e9fe-4aed-be1e-796575f0bd0b",
   "metadata": {},
   "outputs": [],
   "source": [
    "import spacy"
   ]
  },
  {
   "cell_type": "code",
   "execution_count": 113,
   "id": "bb56ebf6-68c4-4537-8923-22ce68ff30b5",
   "metadata": {},
   "outputs": [],
   "source": [
    "nlp= spacy.load(\"en_core_web_sm\")"
   ]
  },
  {
   "cell_type": "code",
   "execution_count": 117,
   "id": "abf4962d-02ce-4ac8-8c1d-ff112f39dbe5",
   "metadata": {},
   "outputs": [],
   "source": [
    "doc = nlp(u'This is the first sentence. This is another sentence. The is the last sentence.')"
   ]
  },
  {
   "cell_type": "code",
   "execution_count": 119,
   "id": "a51fc3e7-183f-4aa1-81a8-121996a25522",
   "metadata": {},
   "outputs": [
    {
     "name": "stdout",
     "output_type": "stream",
     "text": [
      "This is the first sentence.\n",
      "This is another sentence.\n",
      "The is the last sentence.\n"
     ]
    }
   ],
   "source": [
    "for sent in doc.sents:\n",
    "    print(sent)"
   ]
  },
  {
   "cell_type": "code",
   "execution_count": 121,
   "id": "eeb59636-1755-40c4-a525-4c743b9107a2",
   "metadata": {},
   "outputs": [
    {
     "name": "stdout",
     "output_type": "stream",
     "text": [
      "is\n"
     ]
    }
   ],
   "source": [
    "print(doc[1])"
   ]
  },
  {
   "cell_type": "code",
   "execution_count": 123,
   "id": "fc5c9272-d1bb-4e3c-b039-5fe5cb088b5e",
   "metadata": {},
   "outputs": [
    {
     "ename": "TypeError",
     "evalue": "'generator' object is not subscriptable",
     "output_type": "error",
     "traceback": [
      "\u001b[0;31m---------------------------------------------------------------------------\u001b[0m",
      "\u001b[0;31mTypeError\u001b[0m                                 Traceback (most recent call last)",
      "Cell \u001b[0;32mIn[123], line 1\u001b[0m\n\u001b[0;32m----> 1\u001b[0m \u001b[38;5;28mprint\u001b[39m(doc\u001b[38;5;241m.\u001b[39msents[\u001b[38;5;241m1\u001b[39m])\n",
      "\u001b[0;31mTypeError\u001b[0m: 'generator' object is not subscriptable"
     ]
    }
   ],
   "source": [
    "print(doc.sents[1])"
   ]
  },
  {
   "cell_type": "code",
   "execution_count": 125,
   "id": "9aec59eb-d956-47ac-86de-2983be524b09",
   "metadata": {},
   "outputs": [
    {
     "data": {
      "text/plain": [
       "[This is the first sentence.,\n",
       " This is another sentence.,\n",
       " The is the last sentence.]"
      ]
     },
     "execution_count": 125,
     "metadata": {},
     "output_type": "execute_result"
    }
   ],
   "source": [
    "doc_sents=[sent for sent in doc.sents]\n",
    "doc_sents"
   ]
  },
  {
   "cell_type": "code",
   "execution_count": null,
   "id": "aa635251-9557-4ca5-864b-89920876a5d5",
   "metadata": {},
   "outputs": [],
   "source": []
  }
 ],
 "metadata": {
  "kernelspec": {
   "display_name": "Python 3 (ipykernel)",
   "language": "python",
   "name": "python3"
  },
  "language_info": {
   "codemirror_mode": {
    "name": "ipython",
    "version": 3
   },
   "file_extension": ".py",
   "mimetype": "text/x-python",
   "name": "python",
   "nbconvert_exporter": "python",
   "pygments_lexer": "ipython3",
   "version": "3.12.2"
  }
 },
 "nbformat": 4,
 "nbformat_minor": 5
}
